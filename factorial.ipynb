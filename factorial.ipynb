{
 "cells": [
  {
   "cell_type": "code",
   "execution_count": 1,
   "metadata": {},
   "outputs": [
    {
     "name": "stdout",
     "output_type": "stream",
     "text": [
      "the factorial of 10 is 3628800\n"
     ]
    }
   ],
   "source": [
    "def factorial(num):\n",
    "    if num > 0:\n",
    "        f=1\n",
    "        i=0\n",
    "        for i in range(1,num+1):\n",
    "            f=f*i\n",
    "            i=i+1\n",
    "        return f\n",
    "    elif num == 0 :\n",
    "        return 1\n",
    "    else :\n",
    "        return 'the number should be non-negative!'\n",
    "num = int(input('insert a non-negative integer number'))\n",
    "print('the factorial of',num, 'is', factorial(num))\n"
   ]
  }
 ],
 "metadata": {
  "kernelspec": {
   "display_name": "Python 3",
   "language": "python",
   "name": "python3"
  },
  "language_info": {
   "codemirror_mode": {
    "name": "ipython",
    "version": 3
   },
   "file_extension": ".py",
   "mimetype": "text/x-python",
   "name": "python",
   "nbconvert_exporter": "python",
   "pygments_lexer": "ipython3",
   "version": "3.12.4"
  }
 },
 "nbformat": 4,
 "nbformat_minor": 2
}
